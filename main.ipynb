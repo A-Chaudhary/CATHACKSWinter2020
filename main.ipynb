{
 "metadata": {
  "language_info": {
   "codemirror_mode": {
    "name": "ipython",
    "version": 3
   },
   "file_extension": ".py",
   "mimetype": "text/x-python",
   "name": "python",
   "nbconvert_exporter": "python",
   "pygments_lexer": "ipython3",
   "version": "3.7.8-final"
  },
  "orig_nbformat": 2,
  "kernelspec": {
   "name": "python3",
   "display_name": "Python 3.7.8 64-bit",
   "metadata": {
    "interpreter": {
     "hash": "58e616b018b16151b19a22e3317ed63cc4180af6ad7f4c88f207a4b9614d3db8"
    }
   }
  }
 },
 "nbformat": 4,
 "nbformat_minor": 2,
 "cells": [
  {
   "cell_type": "code",
   "execution_count": 1,
   "metadata": {},
   "outputs": [],
   "source": [
    "from GoogleNews import GoogleNews\n",
    "\n",
    "import numpy as np\n",
    "import tensorflow as tf\n",
    "from tensorflow import keras"
   ]
  },
  {
   "cell_type": "code",
   "execution_count": 2,
   "metadata": {},
   "outputs": [],
   "source": [
    "reconstructed_model = keras.models.load_model(\"model\")"
   ]
  },
  {
   "cell_type": "code",
   "execution_count": 5,
   "metadata": {},
   "outputs": [
    {
     "output_type": "stream",
     "name": "stdout",
     "text": [
      "Sentiment Analysis (-1 to 1, Negative to Positive Sentiment)\n",
      "AAPL: -0.6\n"
     ]
    }
   ],
   "source": [
    "googlenews = GoogleNews()\n",
    "print('Sentiment Analysis (-1 to 1, Negative to Positive Sentiment)')\n",
    "ticker = input('Enter in Stock Ticker (Blank to Quit)')\n",
    "sort = True\n",
    "\n",
    "while ticker != '':\n",
    "    titles = []\n",
    "\n",
    "    googlenews.search(ticker + ' Stock')\n",
    "    news = googlenews.results(sort=sort)\n",
    "\n",
    "    googlenews.clear()\n",
    "\n",
    "    for articles in news:\n",
    "        titles.append(articles['title'])\n",
    "\n",
    "    predictions = []\n",
    "    for title in titles:\n",
    "        # print(title)\n",
    "        predictions.append( reconstructed_model.predict(np.array([title]))[0][0] )\n",
    "\n",
    "    sentiment = 0\n",
    "    for prediction in predictions:\n",
    "        if prediction > 0:\n",
    "            sentiment +=1\n",
    "        elif prediction < 0:\n",
    "            sentiment -=1\n",
    "    sentiment /= 10\n",
    "\n",
    "    # print(predictions)\n",
    "    print(ticker +': '+ str(sentiment))\n",
    "\n",
    "    ticker = input('Enter in Stock Ticker (Blank to Quit)')"
   ]
  }
 ]
}